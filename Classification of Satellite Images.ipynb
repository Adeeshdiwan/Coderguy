{
  "metadata": {
    "kernelspec": {
      "language": "python",
      "display_name": "Python 3",
      "name": "python3"
    },
    "language_info": {
      "name": "python",
      "version": "3.10.14",
      "mimetype": "text/x-python",
      "codemirror_mode": {
        "name": "ipython",
        "version": 3
      },
      "pygments_lexer": "ipython3",
      "nbconvert_exporter": "python",
      "file_extension": ".py"
    },
    "kaggle": {
      "accelerator": "nvidiaTeslaT4",
      "dataSources": [
        {
          "sourceId": 9182857,
          "sourceType": "datasetVersion",
          "datasetId": 5550383
        }
      ],
      "dockerImageVersionId": 30787,
      "isInternetEnabled": true,
      "language": "python",
      "sourceType": "notebook",
      "isGpuEnabled": true
    },
    "colab": {
      "name": "Satellite Images Classification",
      "provenance": [],
      "include_colab_link": true
    }
  },
  "nbformat_minor": 0,
  "nbformat": 4,
  "cells": [
    {
      "cell_type": "markdown",
      "metadata": {
        "id": "view-in-github",
        "colab_type": "text"
      },
      "source": [
        "<a href=\"https://colab.research.google.com/github/Adeeshdiwan/Coderguy/blob/master/Classification%20of%20Satellite%20Images.ipynb\" target=\"_parent\"><img src=\"https://colab.research.google.com/assets/colab-badge.svg\" alt=\"Open In Colab\"/></a>"
      ]
    },
    {
      "source": [
        "# IMPORTANT: RUN THIS CELL IN ORDER TO IMPORT YOUR KAGGLE DATA SOURCES,\n",
        "# THEN FEEL FREE TO DELETE THIS CELL.\n",
        "# NOTE: THIS NOTEBOOK ENVIRONMENT DIFFERS FROM KAGGLE'S PYTHON\n",
        "# ENVIRONMENT SO THERE MAY BE MISSING LIBRARIES USED BY YOUR\n",
        "# NOTEBOOK.\n",
        "import kagglehub\n",
        "umeradnaan_remote_sensing_satellite_images_path = kagglehub.dataset_download('umeradnaan/remote-sensing-satellite-images')\n",
        "\n",
        "print('Data source import complete.')\n"
      ],
      "metadata": {
        "id": "8cb_cQMazlLc",
        "outputId": "aada2959-8d0b-4855-fe2b-fe8aa5af7915",
        "colab": {
          "base_uri": "https://localhost:8080/"
        }
      },
      "cell_type": "code",
      "outputs": [
        {
          "output_type": "stream",
          "name": "stdout",
          "text": [
            "Downloading from https://www.kaggle.com/api/v1/datasets/download/umeradnaan/remote-sensing-satellite-images?dataset_version_number=1...\n"
          ]
        },
        {
          "output_type": "stream",
          "name": "stderr",
          "text": [
            "100%|██████████| 49.9M/49.9M [00:00<00:00, 117MB/s]"
          ]
        },
        {
          "output_type": "stream",
          "name": "stdout",
          "text": [
            "Extracting files...\n"
          ]
        },
        {
          "output_type": "stream",
          "name": "stderr",
          "text": [
            "\n"
          ]
        },
        {
          "output_type": "stream",
          "name": "stdout",
          "text": [
            "Data source import complete.\n"
          ]
        }
      ],
      "execution_count": 1
    },
    {
      "cell_type": "code",
      "source": [
        "# This Python 3 environment comes with many helpful analytics libraries installed\n",
        "# It is defined by the kaggle/python Docker image: https://github.com/kaggle/docker-python\n",
        "# For example, here's several helpful packages to load\n",
        "\n",
        "import numpy as np # linear algebra\n",
        "import pandas as pd # data processing, CSV file I/O (e.g. pd.read_csv)\n",
        "\n",
        "# Input data files are available in the read-only \"../input/\" directory\n",
        "# For example, running this (by clicking run or pressing Shift+Enter) will list all files under the input directory\n",
        "\n",
        "import os\n",
        "for dirname, _, filenames in os.walk('/kaggle/input'):\n",
        "    for filename in filenames:\n",
        "        print(os.path.join(dirname, filename))\n",
        "\n",
        "# You can write up to 20GB to the current directory (/kaggle/working/) that gets preserved as output when you create a version using \"Save & Run All\"\n",
        "# You can also write temporary files to /kaggle/temp/, but they won't be saved outside of the current session"
      ],
      "metadata": {
        "_uuid": "8f2839f25d086af736a60e9eeb907d3b93b6e0e5",
        "_cell_guid": "b1076dfc-b9ad-4769-8c92-a6c4dae69d19",
        "trusted": true,
        "execution": {
          "iopub.status.busy": "2025-03-19T11:30:32.431341Z",
          "iopub.execute_input": "2025-03-19T11:30:32.431979Z",
          "iopub.status.idle": "2025-03-19T11:30:34.708553Z",
          "shell.execute_reply.started": "2025-03-19T11:30:32.431944Z",
          "shell.execute_reply": "2025-03-19T11:30:34.707366Z"
        },
        "id": "uu9tL4wpzlLg"
      },
      "outputs": [],
      "execution_count": 2
    },
    {
      "cell_type": "code",
      "source": [
        "image_dir = '/kaggle/input/remote-sensing-satellite-images/Remote Sensing Data.v2i.yolov8/train/images'\n",
        "label_dir = '/kaggle/input/remote-sensing-satellite-images/Remote Sensing Data.v2i.yolov8/train/labels'"
      ],
      "metadata": {
        "trusted": true,
        "execution": {
          "iopub.status.busy": "2025-03-19T11:30:34.710431Z",
          "iopub.execute_input": "2025-03-19T11:30:34.711006Z",
          "iopub.status.idle": "2025-03-19T11:30:34.715921Z",
          "shell.execute_reply.started": "2025-03-19T11:30:34.710964Z",
          "shell.execute_reply": "2025-03-19T11:30:34.714809Z"
        },
        "id": "XY65HmWSzlLi"
      },
      "outputs": [],
      "execution_count": 3
    },
    {
      "cell_type": "code",
      "source": [
        "image_files = sorted([f for f in os.listdir(image_dir) if f.endswith('.jpg') or f.endswith('.png')])\n",
        "label_files = sorted([f for f in os.listdir(label_dir) if f.endswith('.txt')])"
      ],
      "metadata": {
        "trusted": true,
        "execution": {
          "iopub.status.busy": "2025-03-19T11:30:34.717215Z",
          "iopub.execute_input": "2025-03-19T11:30:34.71749Z",
          "iopub.status.idle": "2025-03-19T11:30:34.734709Z",
          "shell.execute_reply.started": "2025-03-19T11:30:34.717464Z",
          "shell.execute_reply": "2025-03-19T11:30:34.73381Z"
        },
        "id": "TL-IS8h6zlLk",
        "outputId": "fdd97c3f-e7a2-4bfc-bad1-11a6544b5062",
        "colab": {
          "base_uri": "https://localhost:8080/",
          "height": 158
        }
      },
      "outputs": [
        {
          "output_type": "error",
          "ename": "FileNotFoundError",
          "evalue": "[Errno 2] No such file or directory: '/kaggle/input/remote-sensing-satellite-images/Remote Sensing Data.v2i.yolov8/train/images'",
          "traceback": [
            "\u001b[0;31m---------------------------------------------------------------------------\u001b[0m",
            "\u001b[0;31mFileNotFoundError\u001b[0m                         Traceback (most recent call last)",
            "\u001b[0;32m/tmp/ipython-input-392078066.py\u001b[0m in \u001b[0;36m<cell line: 0>\u001b[0;34m()\u001b[0m\n\u001b[0;32m----> 1\u001b[0;31m \u001b[0mimage_files\u001b[0m \u001b[0;34m=\u001b[0m \u001b[0msorted\u001b[0m\u001b[0;34m(\u001b[0m\u001b[0;34m[\u001b[0m\u001b[0mf\u001b[0m \u001b[0;32mfor\u001b[0m \u001b[0mf\u001b[0m \u001b[0;32min\u001b[0m \u001b[0mos\u001b[0m\u001b[0;34m.\u001b[0m\u001b[0mlistdir\u001b[0m\u001b[0;34m(\u001b[0m\u001b[0mimage_dir\u001b[0m\u001b[0;34m)\u001b[0m \u001b[0;32mif\u001b[0m \u001b[0mf\u001b[0m\u001b[0;34m.\u001b[0m\u001b[0mendswith\u001b[0m\u001b[0;34m(\u001b[0m\u001b[0;34m'.jpg'\u001b[0m\u001b[0;34m)\u001b[0m \u001b[0;32mor\u001b[0m \u001b[0mf\u001b[0m\u001b[0;34m.\u001b[0m\u001b[0mendswith\u001b[0m\u001b[0;34m(\u001b[0m\u001b[0;34m'.png'\u001b[0m\u001b[0;34m)\u001b[0m\u001b[0;34m]\u001b[0m\u001b[0;34m)\u001b[0m\u001b[0;34m\u001b[0m\u001b[0;34m\u001b[0m\u001b[0m\n\u001b[0m\u001b[1;32m      2\u001b[0m \u001b[0mlabel_files\u001b[0m \u001b[0;34m=\u001b[0m \u001b[0msorted\u001b[0m\u001b[0;34m(\u001b[0m\u001b[0;34m[\u001b[0m\u001b[0mf\u001b[0m \u001b[0;32mfor\u001b[0m \u001b[0mf\u001b[0m \u001b[0;32min\u001b[0m \u001b[0mos\u001b[0m\u001b[0;34m.\u001b[0m\u001b[0mlistdir\u001b[0m\u001b[0;34m(\u001b[0m\u001b[0mlabel_dir\u001b[0m\u001b[0;34m)\u001b[0m \u001b[0;32mif\u001b[0m \u001b[0mf\u001b[0m\u001b[0;34m.\u001b[0m\u001b[0mendswith\u001b[0m\u001b[0;34m(\u001b[0m\u001b[0;34m'.txt'\u001b[0m\u001b[0;34m)\u001b[0m\u001b[0;34m]\u001b[0m\u001b[0;34m)\u001b[0m\u001b[0;34m\u001b[0m\u001b[0;34m\u001b[0m\u001b[0m\n",
            "\u001b[0;31mFileNotFoundError\u001b[0m: [Errno 2] No such file or directory: '/kaggle/input/remote-sensing-satellite-images/Remote Sensing Data.v2i.yolov8/train/images'"
          ]
        }
      ],
      "execution_count": 4
    },
    {
      "cell_type": "code",
      "source": [
        "image_paths = []\n",
        "class_labels = []\n",
        "center_x = []\n",
        "center_y = []\n",
        "width = []\n",
        "height = []\n",
        "\n",
        "for img, lbl in zip(image_files, label_files):\n",
        "\n",
        "    img_path = os.path.join(image_dir, img)\n",
        "    label_path = os.path.join(label_dir, lbl)\n",
        "\n",
        "    with open(label_path, 'r') as file:\n",
        "        for line in file:\n",
        "\n",
        "            parts = line.strip().split()\n",
        "            if len(parts) == 5:\n",
        "\n",
        "                image_paths.append(img_path)\n",
        "                class_labels.append(int(parts[0]))\n",
        "                center_x.append(float(parts[1]))\n",
        "                center_y.append(float(parts[2]))\n",
        "                width.append(float(parts[3]))\n",
        "                height.append(float(parts[4]))\n",
        "\n",
        "df = pd.DataFrame({\n",
        "    'image_path': image_paths,\n",
        "    'class_label': class_labels,\n",
        "    'center_x': center_x,\n",
        "    'center_y': center_y,\n",
        "    'width': width,\n",
        "    'height': height\n",
        "})"
      ],
      "metadata": {
        "trusted": true,
        "execution": {
          "iopub.status.busy": "2025-03-19T11:30:34.73579Z",
          "iopub.execute_input": "2025-03-19T11:30:34.736069Z",
          "iopub.status.idle": "2025-03-19T11:30:36.514217Z",
          "shell.execute_reply.started": "2025-03-19T11:30:34.736045Z",
          "shell.execute_reply": "2025-03-19T11:30:36.513073Z"
        },
        "id": "ZHzTsrzpzlLl"
      },
      "outputs": [],
      "execution_count": null
    },
    {
      "cell_type": "code",
      "source": [
        "df.head()"
      ],
      "metadata": {
        "trusted": true,
        "execution": {
          "iopub.status.busy": "2025-03-19T11:30:36.516215Z",
          "iopub.execute_input": "2025-03-19T11:30:36.516489Z",
          "iopub.status.idle": "2025-03-19T11:30:36.536158Z",
          "shell.execute_reply.started": "2025-03-19T11:30:36.516464Z",
          "shell.execute_reply": "2025-03-19T11:30:36.535348Z"
        },
        "id": "1h8Yz65izlLm"
      },
      "outputs": [],
      "execution_count": null
    },
    {
      "cell_type": "code",
      "source": [
        "df.tail()"
      ],
      "metadata": {
        "trusted": true,
        "execution": {
          "iopub.status.busy": "2025-03-19T11:30:36.537108Z",
          "iopub.execute_input": "2025-03-19T11:30:36.537489Z",
          "iopub.status.idle": "2025-03-19T11:30:36.548562Z",
          "shell.execute_reply.started": "2025-03-19T11:30:36.537462Z",
          "shell.execute_reply": "2025-03-19T11:30:36.547568Z"
        },
        "id": "athVugfDzlLm"
      },
      "outputs": [],
      "execution_count": null
    },
    {
      "cell_type": "code",
      "source": [
        "df.shape"
      ],
      "metadata": {
        "trusted": true,
        "execution": {
          "iopub.status.busy": "2025-03-19T11:30:36.54982Z",
          "iopub.execute_input": "2025-03-19T11:30:36.550113Z",
          "iopub.status.idle": "2025-03-19T11:30:36.556734Z",
          "shell.execute_reply.started": "2025-03-19T11:30:36.550087Z",
          "shell.execute_reply": "2025-03-19T11:30:36.555784Z"
        },
        "id": "Gv7SIG0rzlLn"
      },
      "outputs": [],
      "execution_count": null
    },
    {
      "cell_type": "code",
      "source": [
        "df.columns"
      ],
      "metadata": {
        "trusted": true,
        "execution": {
          "iopub.status.busy": "2025-03-19T11:30:36.558104Z",
          "iopub.execute_input": "2025-03-19T11:30:36.558715Z",
          "iopub.status.idle": "2025-03-19T11:30:36.567006Z",
          "shell.execute_reply.started": "2025-03-19T11:30:36.55867Z",
          "shell.execute_reply": "2025-03-19T11:30:36.566218Z"
        },
        "id": "axrw8v5pzlLo"
      },
      "outputs": [],
      "execution_count": null
    },
    {
      "cell_type": "code",
      "source": [
        "df.duplicated().sum()"
      ],
      "metadata": {
        "trusted": true,
        "execution": {
          "iopub.status.busy": "2025-03-19T11:30:36.568048Z",
          "iopub.execute_input": "2025-03-19T11:30:36.56835Z",
          "iopub.status.idle": "2025-03-19T11:30:36.586803Z",
          "shell.execute_reply.started": "2025-03-19T11:30:36.568297Z",
          "shell.execute_reply": "2025-03-19T11:30:36.585931Z"
        },
        "id": "sgfMWujwzlLp"
      },
      "outputs": [],
      "execution_count": null
    },
    {
      "cell_type": "code",
      "source": [
        "df.isnull().sum()"
      ],
      "metadata": {
        "trusted": true,
        "execution": {
          "iopub.status.busy": "2025-03-19T11:30:36.587649Z",
          "iopub.execute_input": "2025-03-19T11:30:36.587878Z",
          "iopub.status.idle": "2025-03-19T11:30:36.596086Z",
          "shell.execute_reply.started": "2025-03-19T11:30:36.587845Z",
          "shell.execute_reply": "2025-03-19T11:30:36.59523Z"
        },
        "id": "YGdNJOQGzlLq"
      },
      "outputs": [],
      "execution_count": null
    },
    {
      "cell_type": "code",
      "source": [
        "df = df[['image_path', 'class_label']]"
      ],
      "metadata": {
        "trusted": true,
        "execution": {
          "iopub.status.busy": "2025-03-19T11:30:36.597186Z",
          "iopub.execute_input": "2025-03-19T11:30:36.597498Z",
          "iopub.status.idle": "2025-03-19T11:30:36.606904Z",
          "shell.execute_reply.started": "2025-03-19T11:30:36.597472Z",
          "shell.execute_reply": "2025-03-19T11:30:36.606224Z"
        },
        "id": "9T-RjlNwzlLq"
      },
      "outputs": [],
      "execution_count": null
    },
    {
      "cell_type": "code",
      "source": [
        "df"
      ],
      "metadata": {
        "trusted": true,
        "execution": {
          "iopub.status.busy": "2025-03-19T11:30:36.607941Z",
          "iopub.execute_input": "2025-03-19T11:30:36.608434Z",
          "iopub.status.idle": "2025-03-19T11:30:36.627046Z",
          "shell.execute_reply.started": "2025-03-19T11:30:36.608408Z",
          "shell.execute_reply": "2025-03-19T11:30:36.62624Z"
        },
        "id": "mh0loIG5zlLr"
      },
      "outputs": [],
      "execution_count": null
    },
    {
      "cell_type": "code",
      "source": [
        "import matplotlib.pyplot as plt\n",
        "import seaborn as sns\n",
        "\n",
        "plt.figure(figsize=(8, 6))\n",
        "ax = sns.countplot(data=df, x='class_label', palette=\"viridis\")\n",
        "plt.title('Count Plot of Each Category')\n",
        "plt.xlabel('Class Label')\n",
        "plt.ylabel('Count')\n",
        "\n",
        "\n",
        "for p in ax.patches:\n",
        "    ax.annotate(f'{int(p.get_height())}',\n",
        "                (p.get_x() + p.get_width() / 2, p.get_height()),\n",
        "                ha='center', va='bottom', fontsize=12, color='black')\n",
        "\n",
        "plt.show()\n",
        "\n",
        "plt.figure(figsize=(8, 8))\n",
        "class_counts = df['class_label'].value_counts()\n",
        "plt.pie(class_counts, labels=class_counts.index, autopct='%1.1f%%', colors=sns.color_palette(\"viridis\"), startangle=140)\n",
        "\n",
        "plt.title('Pie Chart of Each Category')\n",
        "plt.show()"
      ],
      "metadata": {
        "trusted": true,
        "execution": {
          "iopub.status.busy": "2025-03-19T11:30:36.62818Z",
          "iopub.execute_input": "2025-03-19T11:30:36.628427Z",
          "iopub.status.idle": "2025-03-19T11:30:37.803593Z",
          "shell.execute_reply.started": "2025-03-19T11:30:36.628404Z",
          "shell.execute_reply": "2025-03-19T11:30:37.802697Z"
        },
        "id": "lHNlAcwwzlLr"
      },
      "outputs": [],
      "execution_count": null
    },
    {
      "cell_type": "code",
      "source": [
        "import random\n",
        "from PIL import Image\n",
        "\n",
        "images_per_category = 5\n",
        "\n",
        "class_labels = df['class_label'].unique()\n",
        "\n",
        "fig, axes = plt.subplots(len(class_labels), images_per_category, figsize=(15, 3 * len(class_labels)))\n",
        "\n",
        "for i, class_label in enumerate(class_labels):\n",
        "\n",
        "    class_images = df[df['class_label'] == class_label]['image_path'].tolist()\n",
        "\n",
        "    sampled_images = random.sample(class_images, min(images_per_category, len(class_images)))\n",
        "\n",
        "    for j, image_path in enumerate(sampled_images):\n",
        "        img = Image.open(image_path)\n",
        "\n",
        "        axes[i, j].imshow(img)\n",
        "        axes[i, j].axis('off')\n",
        "\n",
        "        if j == 0:\n",
        "            axes[i, j].set_ylabel(f\"Class {class_label}\", rotation=0, labelpad=50, fontsize=12, ha='right', va='center')\n",
        "\n",
        "plt.tight_layout()\n",
        "plt.show()"
      ],
      "metadata": {
        "trusted": true,
        "execution": {
          "iopub.status.busy": "2025-03-19T11:30:37.808703Z",
          "iopub.execute_input": "2025-03-19T11:30:37.809458Z",
          "iopub.status.idle": "2025-03-19T11:30:46.505048Z",
          "shell.execute_reply.started": "2025-03-19T11:30:37.809417Z",
          "shell.execute_reply": "2025-03-19T11:30:46.503847Z"
        },
        "id": "52MqEbewzlLr"
      },
      "outputs": [],
      "execution_count": null
    },
    {
      "cell_type": "code",
      "source": [
        "from imblearn.over_sampling import RandomOverSampler"
      ],
      "metadata": {
        "trusted": true,
        "execution": {
          "iopub.status.busy": "2025-03-19T11:30:46.506279Z",
          "iopub.execute_input": "2025-03-19T11:30:46.50663Z",
          "iopub.status.idle": "2025-03-19T11:30:47.109167Z",
          "shell.execute_reply.started": "2025-03-19T11:30:46.506597Z",
          "shell.execute_reply": "2025-03-19T11:30:47.108189Z"
        },
        "id": "LhUOheNuzlLs"
      },
      "outputs": [],
      "execution_count": null
    },
    {
      "cell_type": "code",
      "source": [
        "ros = RandomOverSampler(random_state=42)\n",
        "X_resampled, y_resampled = ros.fit_resample(df[['image_path']], df['class_label'])"
      ],
      "metadata": {
        "trusted": true,
        "execution": {
          "iopub.status.busy": "2025-03-19T11:30:47.110465Z",
          "iopub.execute_input": "2025-03-19T11:30:47.111368Z",
          "iopub.status.idle": "2025-03-19T11:30:47.124271Z",
          "shell.execute_reply.started": "2025-03-19T11:30:47.111303Z",
          "shell.execute_reply": "2025-03-19T11:30:47.123302Z"
        },
        "id": "j9mUUxUUzlLs"
      },
      "outputs": [],
      "execution_count": null
    },
    {
      "cell_type": "code",
      "source": [
        "df_resampled = pd.DataFrame(X_resampled, columns=['image_path'])\n",
        "df_resampled['class_label'] = y_resampled"
      ],
      "metadata": {
        "trusted": true,
        "execution": {
          "iopub.status.busy": "2025-03-19T11:30:47.125595Z",
          "iopub.execute_input": "2025-03-19T11:30:47.12592Z",
          "iopub.status.idle": "2025-03-19T11:30:47.132218Z",
          "shell.execute_reply.started": "2025-03-19T11:30:47.125872Z",
          "shell.execute_reply": "2025-03-19T11:30:47.131161Z"
        },
        "id": "P-N0u75zzlLs"
      },
      "outputs": [],
      "execution_count": null
    },
    {
      "cell_type": "code",
      "source": [
        "print(\"\\nClass distribution after oversampling:\")\n",
        "print(df_resampled['class_label'].value_counts())"
      ],
      "metadata": {
        "trusted": true,
        "execution": {
          "iopub.status.busy": "2025-03-19T11:30:47.133275Z",
          "iopub.execute_input": "2025-03-19T11:30:47.133617Z",
          "iopub.status.idle": "2025-03-19T11:30:47.144036Z",
          "shell.execute_reply.started": "2025-03-19T11:30:47.133585Z",
          "shell.execute_reply": "2025-03-19T11:30:47.143145Z"
        },
        "id": "Cfot8XJHzlLt"
      },
      "outputs": [],
      "execution_count": null
    },
    {
      "cell_type": "code",
      "source": [
        "df_resampled"
      ],
      "metadata": {
        "trusted": true,
        "execution": {
          "iopub.status.busy": "2025-03-19T11:30:47.145206Z",
          "iopub.execute_input": "2025-03-19T11:30:47.145495Z",
          "iopub.status.idle": "2025-03-19T11:30:47.156849Z",
          "shell.execute_reply.started": "2025-03-19T11:30:47.145472Z",
          "shell.execute_reply": "2025-03-19T11:30:47.156172Z"
        },
        "id": "EMNIJVlDzlLt"
      },
      "outputs": [],
      "execution_count": null
    },
    {
      "cell_type": "code",
      "source": [
        "import time\n",
        "import shutil\n",
        "import pathlib\n",
        "import itertools\n",
        "from PIL import Image\n",
        "\n",
        "import cv2\n",
        "import seaborn as sns\n",
        "sns.set_style('darkgrid')\n",
        "import matplotlib.pyplot as plt\n",
        "from sklearn.model_selection import train_test_split\n",
        "from sklearn.metrics import confusion_matrix, classification_report\n",
        "\n",
        "import tensorflow as tf\n",
        "from tensorflow import keras\n",
        "from tensorflow.keras.models import Sequential\n",
        "from tensorflow.keras.optimizers import Adam, Adamax\n",
        "from tensorflow.keras.preprocessing.image import ImageDataGenerator\n",
        "from tensorflow.keras.layers import Conv2D, MaxPooling2D, Flatten, Dense, Activation, Dropout, BatchNormalization\n",
        "from tensorflow.keras import regularizers\n",
        "\n",
        "import warnings\n",
        "warnings.filterwarnings(\"ignore\")\n",
        "\n",
        "print ('check')"
      ],
      "metadata": {
        "trusted": true,
        "execution": {
          "iopub.status.busy": "2025-03-19T11:30:47.157848Z",
          "iopub.execute_input": "2025-03-19T11:30:47.158152Z",
          "iopub.status.idle": "2025-03-19T11:31:01.61403Z",
          "shell.execute_reply.started": "2025-03-19T11:30:47.158117Z",
          "shell.execute_reply": "2025-03-19T11:31:01.613109Z"
        },
        "id": "Tk2NKMAuzlLt"
      },
      "outputs": [],
      "execution_count": null
    },
    {
      "cell_type": "code",
      "source": [
        "df_resampled['class_label'] = df_resampled['class_label'].astype(str)"
      ],
      "metadata": {
        "trusted": true,
        "execution": {
          "iopub.status.busy": "2025-03-19T11:31:01.61524Z",
          "iopub.execute_input": "2025-03-19T11:31:01.615957Z",
          "iopub.status.idle": "2025-03-19T11:31:01.621105Z",
          "shell.execute_reply.started": "2025-03-19T11:31:01.615914Z",
          "shell.execute_reply": "2025-03-19T11:31:01.620285Z"
        },
        "id": "lO3xc7YYzlLt"
      },
      "outputs": [],
      "execution_count": null
    },
    {
      "cell_type": "code",
      "source": [
        "train_df_new, temp_df_new = train_test_split(\n",
        "    df_resampled,\n",
        "    train_size=0.8,\n",
        "    shuffle=True,\n",
        "    random_state=42,\n",
        "    stratify=df_resampled['class_label']\n",
        ")\n",
        "\n",
        "valid_df_new, test_df_new = train_test_split(\n",
        "    temp_df_new,\n",
        "    test_size=0.5,\n",
        "    shuffle=True,\n",
        "    random_state=42,\n",
        "    stratify=temp_df_new['class_label']\n",
        ")"
      ],
      "metadata": {
        "trusted": true,
        "execution": {
          "iopub.status.busy": "2025-03-19T11:31:01.622288Z",
          "iopub.execute_input": "2025-03-19T11:31:01.622872Z",
          "iopub.status.idle": "2025-03-19T11:31:01.78197Z",
          "shell.execute_reply.started": "2025-03-19T11:31:01.622834Z",
          "shell.execute_reply": "2025-03-19T11:31:01.781033Z"
        },
        "id": "ZBPgCOlczlLu"
      },
      "outputs": [],
      "execution_count": null
    },
    {
      "cell_type": "code",
      "source": [
        "from tensorflow.keras.preprocessing.image import ImageDataGenerator\n",
        "\n",
        "batch_size = 16\n",
        "img_size = (224, 224)\n",
        "channels = 3\n",
        "img_shape = (img_size[0], img_size[1], channels)\n",
        "\n",
        "tr_gen = ImageDataGenerator(rescale=1./255)\n",
        "ts_gen = ImageDataGenerator(rescale=1./255)\n",
        "\n",
        "train_gen_new = tr_gen.flow_from_dataframe(\n",
        "    train_df_new,\n",
        "    x_col='image_path',\n",
        "    y_col='class_label',\n",
        "    target_size=img_size,\n",
        "    class_mode='sparse',\n",
        "    color_mode='rgb',\n",
        "    shuffle=True,\n",
        "    batch_size=batch_size\n",
        ")\n",
        "\n",
        "valid_gen_new = ts_gen.flow_from_dataframe(\n",
        "    valid_df_new,\n",
        "    x_col='image_path',\n",
        "    y_col='class_label',\n",
        "    target_size=img_size,\n",
        "    class_mode='sparse',\n",
        "    color_mode='rgb',\n",
        "    shuffle=True,\n",
        "    batch_size=batch_size\n",
        ")\n",
        "\n",
        "test_gen_new = ts_gen.flow_from_dataframe(\n",
        "    test_df_new,\n",
        "    x_col='image_path',\n",
        "    y_col='class_label',\n",
        "    target_size=img_size,\n",
        "    class_mode='sparse',\n",
        "    color_mode='rgb',\n",
        "    shuffle=False,\n",
        "    batch_size=batch_size\n",
        ")"
      ],
      "metadata": {
        "trusted": true,
        "execution": {
          "iopub.status.busy": "2025-03-19T11:31:01.78328Z",
          "iopub.execute_input": "2025-03-19T11:31:01.783686Z",
          "iopub.status.idle": "2025-03-19T11:31:02.240897Z",
          "shell.execute_reply.started": "2025-03-19T11:31:01.783644Z",
          "shell.execute_reply": "2025-03-19T11:31:02.240138Z"
        },
        "id": "WShPQqrJzlLu"
      },
      "outputs": [],
      "execution_count": null
    },
    {
      "cell_type": "code",
      "source": [
        "import tensorflow as tf\n",
        "from tensorflow.keras import layers, models\n",
        "from tensorflow.keras.callbacks import EarlyStopping, ModelCheckpoint"
      ],
      "metadata": {
        "trusted": true,
        "execution": {
          "iopub.status.busy": "2025-03-19T11:31:02.241898Z",
          "iopub.execute_input": "2025-03-19T11:31:02.242165Z",
          "iopub.status.idle": "2025-03-19T11:31:02.248894Z",
          "shell.execute_reply.started": "2025-03-19T11:31:02.242139Z",
          "shell.execute_reply": "2025-03-19T11:31:02.247989Z"
        },
        "id": "XrobZMZUzlLu"
      },
      "outputs": [],
      "execution_count": null
    },
    {
      "cell_type": "code",
      "source": [
        "physical_devices = tf.config.list_physical_devices('GPU')\n",
        "if physical_devices:\n",
        "    print(\"Using GPU\")\n",
        "else:\n",
        "    print(\"Using CPU\")"
      ],
      "metadata": {
        "trusted": true,
        "execution": {
          "iopub.status.busy": "2025-03-19T11:31:02.25007Z",
          "iopub.execute_input": "2025-03-19T11:31:02.250368Z",
          "iopub.status.idle": "2025-03-19T11:31:02.623765Z",
          "shell.execute_reply.started": "2025-03-19T11:31:02.25034Z",
          "shell.execute_reply": "2025-03-19T11:31:02.622608Z"
        },
        "id": "rtunqnUnzlLv"
      },
      "outputs": [],
      "execution_count": null
    },
    {
      "cell_type": "code",
      "source": [
        "early_stopping = EarlyStopping(monitor='val_loss', patience=5, restore_best_weights=True)"
      ],
      "metadata": {
        "trusted": true,
        "execution": {
          "iopub.status.busy": "2025-03-19T11:31:02.625244Z",
          "iopub.execute_input": "2025-03-19T11:31:02.625711Z",
          "iopub.status.idle": "2025-03-19T11:31:02.634903Z",
          "shell.execute_reply.started": "2025-03-19T11:31:02.625643Z",
          "shell.execute_reply": "2025-03-19T11:31:02.633934Z"
        },
        "id": "f6rJ3L_IzlLw"
      },
      "outputs": [],
      "execution_count": null
    },
    {
      "cell_type": "code",
      "source": [
        "from tensorflow.keras.applications import VGG16\n",
        "from tensorflow.keras.models import Model\n",
        "from tensorflow.keras.layers import GlobalAveragePooling2D, Dense, Dropout, BatchNormalization, GaussianNoise, Input, MultiHeadAttention, Reshape\n",
        "from tensorflow.keras.optimizers import Adam\n",
        "import tensorflow as tf\n",
        "\n",
        "def create_vgg16_model(input_shape):\n",
        "\n",
        "    inputs = Input(shape=input_shape)\n",
        "\n",
        "    base_model = VGG16(weights='imagenet', input_tensor=inputs, include_top=False)\n",
        "\n",
        "    for layer in base_model.layers:\n",
        "        layer.trainable = False\n",
        "\n",
        "    x = base_model.output\n",
        "\n",
        "    height, width, channels = 7, 7, 512\n",
        "    x = Reshape((height * width, channels))(x)\n",
        "\n",
        "    attention_output = MultiHeadAttention(num_heads=8, key_dim=channels)(x, x)\n",
        "\n",
        "    attention_output = Reshape((height, width, channels))(attention_output)\n",
        "\n",
        "    x = GaussianNoise(0.25)(attention_output)\n",
        "    x = GlobalAveragePooling2D()(x)\n",
        "\n",
        "    x = Dense(512, activation='relu')(x)\n",
        "    x = BatchNormalization()(x)\n",
        "    x = GaussianNoise(0.25)(x)\n",
        "    x = Dropout(0.25)(x)\n",
        "\n",
        "    outputs = Dense(14, activation='softmax')(x)\n",
        "\n",
        "    model = Model(inputs=inputs, outputs=outputs)\n",
        "\n",
        "    return model\n",
        "\n",
        "input_shape = (224, 224, 3)\n",
        "cnn_model = create_vgg16_model(input_shape)\n",
        "\n",
        "cnn_model.compile(optimizer=Adam(learning_rate=0.0001),\n",
        "                  loss='sparse_categorical_crossentropy',\n",
        "                  metrics=['accuracy'])"
      ],
      "metadata": {
        "trusted": true,
        "execution": {
          "iopub.status.busy": "2025-03-19T11:31:02.636139Z",
          "iopub.execute_input": "2025-03-19T11:31:02.636555Z",
          "iopub.status.idle": "2025-03-19T11:31:06.548945Z",
          "shell.execute_reply.started": "2025-03-19T11:31:02.636514Z",
          "shell.execute_reply": "2025-03-19T11:31:06.548228Z"
        },
        "id": "d6dd2ee7zlLw"
      },
      "outputs": [],
      "execution_count": null
    },
    {
      "cell_type": "code",
      "source": [
        "history = cnn_model.fit(\n",
        "    train_gen_new,\n",
        "    validation_data=valid_gen_new,\n",
        "    epochs=5,\n",
        "    callbacks=[early_stopping],\n",
        "    verbose=1\n",
        ")"
      ],
      "metadata": {
        "trusted": true,
        "execution": {
          "iopub.status.busy": "2025-03-19T11:31:06.54999Z",
          "iopub.execute_input": "2025-03-19T11:31:06.550268Z",
          "iopub.status.idle": "2025-03-19T11:32:56.749297Z",
          "shell.execute_reply.started": "2025-03-19T11:31:06.550242Z",
          "shell.execute_reply": "2025-03-19T11:32:56.748472Z"
        },
        "id": "R0onw7BvzlLw"
      },
      "outputs": [],
      "execution_count": null
    },
    {
      "cell_type": "code",
      "source": [
        "plt.plot(history.history['accuracy'])\n",
        "plt.plot(history.history['val_accuracy'])\n",
        "plt.title('Model accuracy')\n",
        "plt.ylabel('Accuracy')\n",
        "plt.xlabel('Epoch')\n",
        "plt.legend(['Train', 'Validation'], loc='upper left')\n",
        "plt.show()\n",
        "\n",
        "plt.plot(history.history['loss'])\n",
        "plt.plot(history.history['val_loss'])\n",
        "plt.title('Model loss')\n",
        "plt.ylabel('Loss')\n",
        "plt.xlabel('Epoch')\n",
        "plt.legend(['Train', 'Validation'], loc='upper left')\n",
        "plt.show()"
      ],
      "metadata": {
        "trusted": true,
        "execution": {
          "iopub.status.busy": "2025-03-19T11:32:56.750512Z",
          "iopub.execute_input": "2025-03-19T11:32:56.750788Z",
          "iopub.status.idle": "2025-03-19T11:32:57.416162Z",
          "shell.execute_reply.started": "2025-03-19T11:32:56.750762Z",
          "shell.execute_reply": "2025-03-19T11:32:57.415301Z"
        },
        "id": "0vFgCU4czlLx"
      },
      "outputs": [],
      "execution_count": null
    },
    {
      "cell_type": "code",
      "source": [
        "test_labels = test_gen_new.classes\n",
        "predictions = cnn_model.predict(test_gen_new)\n",
        "predicted_classes = np.argmax(predictions, axis=1)"
      ],
      "metadata": {
        "trusted": true,
        "execution": {
          "iopub.status.busy": "2025-03-19T11:32:57.41715Z",
          "iopub.execute_input": "2025-03-19T11:32:57.417454Z",
          "iopub.status.idle": "2025-03-19T11:32:59.667993Z",
          "shell.execute_reply.started": "2025-03-19T11:32:57.417427Z",
          "shell.execute_reply": "2025-03-19T11:32:59.667305Z"
        },
        "id": "cpNo07hYzlLx"
      },
      "outputs": [],
      "execution_count": null
    },
    {
      "cell_type": "code",
      "source": [
        "report = classification_report(test_labels, predicted_classes, target_names=list(test_gen_new.class_indices.keys()))\n",
        "print(report)"
      ],
      "metadata": {
        "trusted": true,
        "execution": {
          "iopub.status.busy": "2025-03-19T11:32:59.669102Z",
          "iopub.execute_input": "2025-03-19T11:32:59.669417Z",
          "iopub.status.idle": "2025-03-19T11:32:59.682919Z",
          "shell.execute_reply.started": "2025-03-19T11:32:59.66939Z",
          "shell.execute_reply": "2025-03-19T11:32:59.682094Z"
        },
        "id": "r24f_tpRzlLx"
      },
      "outputs": [],
      "execution_count": null
    },
    {
      "cell_type": "code",
      "source": [
        "conf_matrix = confusion_matrix(test_labels, predicted_classes)"
      ],
      "metadata": {
        "trusted": true,
        "execution": {
          "iopub.status.busy": "2025-03-19T11:32:59.68416Z",
          "iopub.execute_input": "2025-03-19T11:32:59.685034Z",
          "iopub.status.idle": "2025-03-19T11:32:59.691159Z",
          "shell.execute_reply.started": "2025-03-19T11:32:59.685007Z",
          "shell.execute_reply": "2025-03-19T11:32:59.690529Z"
        },
        "id": "MlCznT7CzlLy"
      },
      "outputs": [],
      "execution_count": null
    },
    {
      "cell_type": "code",
      "source": [
        "plt.figure(figsize=(10, 8))\n",
        "sns.heatmap(conf_matrix, annot=True, fmt='d', cmap='Blues', xticklabels=list(test_gen_new.class_indices.keys()), yticklabels=list(test_gen_new.class_indices.keys()))\n",
        "plt.title('Confusion Matrix')\n",
        "plt.xlabel('Predicted Label')\n",
        "plt.ylabel('True Label')\n",
        "plt.show()"
      ],
      "metadata": {
        "trusted": true,
        "execution": {
          "iopub.status.busy": "2025-03-19T11:32:59.692298Z",
          "iopub.execute_input": "2025-03-19T11:32:59.69263Z",
          "iopub.status.idle": "2025-03-19T11:33:00.356457Z",
          "shell.execute_reply.started": "2025-03-19T11:32:59.692602Z",
          "shell.execute_reply": "2025-03-19T11:33:00.355551Z"
        },
        "id": "UAlAY4J3zlLy"
      },
      "outputs": [],
      "execution_count": null
    },
    {
      "cell_type": "code",
      "source": [
        "from tensorflow.keras.applications import VGG19\n",
        "from tensorflow.keras.models import Model\n",
        "from tensorflow.keras.layers import GlobalAveragePooling2D, Dense, Dropout, BatchNormalization, GaussianNoise, Input, MultiHeadAttention, Reshape\n",
        "from tensorflow.keras.optimizers import Adam\n",
        "import tensorflow as tf\n",
        "\n",
        "def create_vgg19_model(input_shape):\n",
        "\n",
        "    inputs = Input(shape=input_shape)\n",
        "\n",
        "    base_model = VGG19(weights='imagenet', input_tensor=inputs, include_top=False)\n",
        "\n",
        "    for layer in base_model.layers:\n",
        "        layer.trainable = False\n",
        "\n",
        "    x = base_model.output\n",
        "\n",
        "    height, width, channels = 7, 7, 512\n",
        "    x = Reshape((height * width, channels))(x)\n",
        "\n",
        "    attention_output = MultiHeadAttention(num_heads=8, key_dim=channels)(x, x)\n",
        "\n",
        "    attention_output = Reshape((height, width, channels))(attention_output)\n",
        "\n",
        "    x = GaussianNoise(0.25)(attention_output)\n",
        "    x = GlobalAveragePooling2D()(x)\n",
        "\n",
        "    x = Dense(512, activation='relu')(x)\n",
        "    x = BatchNormalization()(x)\n",
        "    x = GaussianNoise(0.25)(x)\n",
        "    x = Dropout(0.25)(x)\n",
        "\n",
        "    outputs = Dense(14, activation='softmax')(x)\n",
        "\n",
        "    model = Model(inputs=inputs, outputs=outputs)\n",
        "\n",
        "    return model\n",
        "\n",
        "input_shape = (224, 224, 3)\n",
        "cnn_model = create_vgg19_model(input_shape)\n",
        "\n",
        "cnn_model.compile(optimizer=Adam(learning_rate=0.0001),\n",
        "                  loss='sparse_categorical_crossentropy',\n",
        "                  metrics=['accuracy'])"
      ],
      "metadata": {
        "trusted": true,
        "execution": {
          "iopub.status.busy": "2025-03-19T11:33:00.357547Z",
          "iopub.execute_input": "2025-03-19T11:33:00.357905Z",
          "iopub.status.idle": "2025-03-19T11:33:04.354859Z",
          "shell.execute_reply.started": "2025-03-19T11:33:00.35787Z",
          "shell.execute_reply": "2025-03-19T11:33:04.354191Z"
        },
        "id": "Ogd8TswUzlLz"
      },
      "outputs": [],
      "execution_count": null
    },
    {
      "cell_type": "code",
      "source": [
        "history = cnn_model.fit(\n",
        "    train_gen_new,\n",
        "    validation_data=valid_gen_new,\n",
        "    epochs=5,\n",
        "    callbacks=[early_stopping],\n",
        "    verbose=1\n",
        ")"
      ],
      "metadata": {
        "trusted": true,
        "execution": {
          "iopub.status.busy": "2025-03-19T11:33:04.355808Z",
          "iopub.execute_input": "2025-03-19T11:33:04.356068Z",
          "iopub.status.idle": "2025-03-19T11:34:19.51312Z",
          "shell.execute_reply.started": "2025-03-19T11:33:04.356044Z",
          "shell.execute_reply": "2025-03-19T11:34:19.512123Z"
        },
        "id": "h-AXJ0oTzlLz"
      },
      "outputs": [],
      "execution_count": null
    },
    {
      "cell_type": "code",
      "source": [
        "plt.plot(history.history['accuracy'])\n",
        "plt.plot(history.history['val_accuracy'])\n",
        "plt.title('Model accuracy')\n",
        "plt.ylabel('Accuracy')\n",
        "plt.xlabel('Epoch')\n",
        "plt.legend(['Train', 'Validation'], loc='upper left')\n",
        "plt.show()\n",
        "\n",
        "plt.plot(history.history['loss'])\n",
        "plt.plot(history.history['val_loss'])\n",
        "plt.title('Model loss')\n",
        "plt.ylabel('Loss')\n",
        "plt.xlabel('Epoch')\n",
        "plt.legend(['Train', 'Validation'], loc='upper left')\n",
        "plt.show()"
      ],
      "metadata": {
        "trusted": true,
        "execution": {
          "iopub.status.busy": "2025-03-19T11:34:19.514428Z",
          "iopub.execute_input": "2025-03-19T11:34:19.515072Z",
          "iopub.status.idle": "2025-03-19T11:34:20.099045Z",
          "shell.execute_reply.started": "2025-03-19T11:34:19.515031Z",
          "shell.execute_reply": "2025-03-19T11:34:20.098191Z"
        },
        "id": "mFN_Z2ZUzlLz"
      },
      "outputs": [],
      "execution_count": null
    },
    {
      "cell_type": "code",
      "source": [
        "test_labels = test_gen_new.classes\n",
        "predictions = cnn_model.predict(test_gen_new)\n",
        "predicted_classes = np.argmax(predictions, axis=1)"
      ],
      "metadata": {
        "trusted": true,
        "execution": {
          "iopub.status.busy": "2025-03-19T11:34:20.100397Z",
          "iopub.execute_input": "2025-03-19T11:34:20.100788Z",
          "iopub.status.idle": "2025-03-19T11:34:22.698991Z",
          "shell.execute_reply.started": "2025-03-19T11:34:20.100741Z",
          "shell.execute_reply": "2025-03-19T11:34:22.698198Z"
        },
        "id": "IuoAGeT6zlL0"
      },
      "outputs": [],
      "execution_count": null
    },
    {
      "cell_type": "code",
      "source": [
        "report = classification_report(test_labels, predicted_classes, target_names=list(test_gen_new.class_indices.keys()))\n",
        "print(report)"
      ],
      "metadata": {
        "trusted": true,
        "execution": {
          "iopub.status.busy": "2025-03-19T11:34:22.700129Z",
          "iopub.execute_input": "2025-03-19T11:34:22.700451Z",
          "iopub.status.idle": "2025-03-19T11:34:22.714886Z",
          "shell.execute_reply.started": "2025-03-19T11:34:22.700423Z",
          "shell.execute_reply": "2025-03-19T11:34:22.714138Z"
        },
        "id": "Kr9gbXMBzlL0"
      },
      "outputs": [],
      "execution_count": null
    },
    {
      "cell_type": "code",
      "source": [
        "conf_matrix = confusion_matrix(test_labels, predicted_classes)"
      ],
      "metadata": {
        "trusted": true,
        "execution": {
          "iopub.status.busy": "2025-03-19T11:34:22.715837Z",
          "iopub.execute_input": "2025-03-19T11:34:22.716145Z",
          "iopub.status.idle": "2025-03-19T11:34:22.721974Z",
          "shell.execute_reply.started": "2025-03-19T11:34:22.716116Z",
          "shell.execute_reply": "2025-03-19T11:34:22.720894Z"
        },
        "id": "UP979PITzlL-"
      },
      "outputs": [],
      "execution_count": null
    },
    {
      "cell_type": "code",
      "source": [
        "plt.figure(figsize=(10, 8))\n",
        "sns.heatmap(conf_matrix, annot=True, fmt='d', cmap='Blues', xticklabels=list(test_gen_new.class_indices.keys()), yticklabels=list(test_gen_new.class_indices.keys()))\n",
        "plt.title('Confusion Matrix')\n",
        "plt.xlabel('Predicted Label')\n",
        "plt.ylabel('True Label')\n",
        "plt.show()"
      ],
      "metadata": {
        "trusted": true,
        "execution": {
          "iopub.status.busy": "2025-03-19T11:34:22.723204Z",
          "iopub.execute_input": "2025-03-19T11:34:22.723557Z",
          "iopub.status.idle": "2025-03-19T11:34:23.459086Z",
          "shell.execute_reply.started": "2025-03-19T11:34:22.723511Z",
          "shell.execute_reply": "2025-03-19T11:34:23.458176Z"
        },
        "id": "rzn0EVArzlL_"
      },
      "outputs": [],
      "execution_count": null
    },
    {
      "cell_type": "code",
      "source": [
        "from tensorflow.keras.applications import InceptionV3\n",
        "from tensorflow.keras.models import Model\n",
        "from tensorflow.keras.layers import GlobalAveragePooling2D, Dense, Dropout, BatchNormalization, GaussianNoise, Input, MultiHeadAttention, Reshape\n",
        "from tensorflow.keras.optimizers import Adam\n",
        "import tensorflow as tf\n",
        "\n",
        "def create_inceptionv3_model(input_shape):\n",
        "\n",
        "    inputs = Input(shape=input_shape)\n",
        "\n",
        "    base_model = InceptionV3(weights='imagenet', input_tensor=inputs, include_top=False)\n",
        "\n",
        "    for layer in base_model.layers:\n",
        "        layer.trainable = False\n",
        "\n",
        "    x = base_model.output\n",
        "\n",
        "    height, width, channels = 5, 5, 2048\n",
        "    x = Reshape((height * width, channels))(x)\n",
        "\n",
        "    attention_output = MultiHeadAttention(num_heads=8, key_dim=channels)(x, x)\n",
        "\n",
        "    attention_output = Reshape((height, width, channels))(attention_output)\n",
        "\n",
        "    x = GaussianNoise(0.25)(attention_output)\n",
        "    x = GlobalAveragePooling2D()(x)\n",
        "\n",
        "    x = Dense(512, activation='relu')(x)\n",
        "    x = BatchNormalization()(x)\n",
        "    x = GaussianNoise(0.25)(x)\n",
        "    x = Dropout(0.25)(x)\n",
        "\n",
        "    outputs = Dense(14, activation='softmax')(x)\n",
        "\n",
        "    model = Model(inputs=inputs, outputs=outputs)\n",
        "\n",
        "    return model\n",
        "\n",
        "input_shape = (224, 224, 3)\n",
        "cnn_model = create_inceptionv3_model(input_shape)\n",
        "\n",
        "cnn_model.compile(optimizer=Adam(learning_rate=0.0001),\n",
        "                  loss='sparse_categorical_crossentropy',\n",
        "                  metrics=['accuracy'])"
      ],
      "metadata": {
        "trusted": true,
        "execution": {
          "iopub.status.busy": "2025-03-19T11:34:23.465982Z",
          "iopub.execute_input": "2025-03-19T11:34:23.466365Z",
          "iopub.status.idle": "2025-03-19T11:34:28.972108Z",
          "shell.execute_reply.started": "2025-03-19T11:34:23.466337Z",
          "shell.execute_reply": "2025-03-19T11:34:28.971371Z"
        },
        "id": "ChZ4-49kzlL_"
      },
      "outputs": [],
      "execution_count": null
    },
    {
      "cell_type": "code",
      "source": [
        "history = cnn_model.fit(\n",
        "    train_gen_new,\n",
        "    validation_data=valid_gen_new,\n",
        "    epochs=5,\n",
        "    callbacks=[early_stopping],\n",
        "    verbose=1\n",
        ")"
      ],
      "metadata": {
        "trusted": true,
        "execution": {
          "iopub.status.busy": "2025-03-19T11:34:28.973159Z",
          "iopub.execute_input": "2025-03-19T11:34:28.973462Z",
          "iopub.status.idle": "2025-03-19T11:36:48.952429Z",
          "shell.execute_reply.started": "2025-03-19T11:34:28.973434Z",
          "shell.execute_reply": "2025-03-19T11:36:48.951612Z"
        },
        "id": "3m7F8sAOzlL_"
      },
      "outputs": [],
      "execution_count": null
    },
    {
      "cell_type": "code",
      "source": [
        "plt.plot(history.history['accuracy'])\n",
        "plt.plot(history.history['val_accuracy'])\n",
        "plt.title('Model accuracy')\n",
        "plt.ylabel('Accuracy')\n",
        "plt.xlabel('Epoch')\n",
        "plt.legend(['Train', 'Validation'], loc='upper left')\n",
        "plt.show()\n",
        "\n",
        "plt.plot(history.history['loss'])\n",
        "plt.plot(history.history['val_loss'])\n",
        "plt.title('Model loss')\n",
        "plt.ylabel('Loss')\n",
        "plt.xlabel('Epoch')\n",
        "plt.legend(['Train', 'Validation'], loc='upper left')\n",
        "plt.show()"
      ],
      "metadata": {
        "trusted": true,
        "execution": {
          "iopub.status.busy": "2025-03-19T11:37:39.312149Z",
          "iopub.execute_input": "2025-03-19T11:37:39.31278Z",
          "iopub.status.idle": "2025-03-19T11:37:39.948797Z",
          "shell.execute_reply.started": "2025-03-19T11:37:39.312741Z",
          "shell.execute_reply": "2025-03-19T11:37:39.947938Z"
        },
        "id": "B94ayJ2hzlMA"
      },
      "outputs": [],
      "execution_count": null
    },
    {
      "cell_type": "code",
      "source": [
        "test_labels = test_gen_new.classes\n",
        "predictions = cnn_model.predict(test_gen_new)\n",
        "predicted_classes = np.argmax(predictions, axis=1)"
      ],
      "metadata": {
        "trusted": true,
        "execution": {
          "iopub.status.busy": "2025-03-19T11:37:43.318306Z",
          "iopub.execute_input": "2025-03-19T11:37:43.319166Z",
          "iopub.status.idle": "2025-03-19T11:37:53.912765Z",
          "shell.execute_reply.started": "2025-03-19T11:37:43.319131Z",
          "shell.execute_reply": "2025-03-19T11:37:53.912Z"
        },
        "id": "FtgF7VGEzlMA"
      },
      "outputs": [],
      "execution_count": null
    },
    {
      "cell_type": "code",
      "source": [
        "report = classification_report(test_labels, predicted_classes, target_names=list(test_gen_new.class_indices.keys()))\n",
        "print(report)"
      ],
      "metadata": {
        "trusted": true,
        "execution": {
          "iopub.status.busy": "2025-03-19T11:37:57.346245Z",
          "iopub.execute_input": "2025-03-19T11:37:57.346669Z",
          "iopub.status.idle": "2025-03-19T11:37:57.363068Z",
          "shell.execute_reply.started": "2025-03-19T11:37:57.346627Z",
          "shell.execute_reply": "2025-03-19T11:37:57.362128Z"
        },
        "id": "gzthbMLwzlMB"
      },
      "outputs": [],
      "execution_count": null
    },
    {
      "cell_type": "code",
      "source": [
        "conf_matrix = confusion_matrix(test_labels, predicted_classes)"
      ],
      "metadata": {
        "trusted": true,
        "execution": {
          "iopub.status.busy": "2025-03-19T11:37:57.804549Z",
          "iopub.execute_input": "2025-03-19T11:37:57.805061Z",
          "iopub.status.idle": "2025-03-19T11:37:57.810744Z",
          "shell.execute_reply.started": "2025-03-19T11:37:57.805031Z",
          "shell.execute_reply": "2025-03-19T11:37:57.8098Z"
        },
        "id": "thDb03DMzlMB"
      },
      "outputs": [],
      "execution_count": null
    },
    {
      "cell_type": "code",
      "source": [
        "plt.figure(figsize=(10, 8))\n",
        "sns.heatmap(conf_matrix, annot=True, fmt='d', cmap='Blues', xticklabels=list(test_gen_new.class_indices.keys()), yticklabels=list(test_gen_new.class_indices.keys()))\n",
        "plt.title('Confusion Matrix')\n",
        "plt.xlabel('Predicted Label')\n",
        "plt.ylabel('True Label')\n",
        "plt.show()"
      ],
      "metadata": {
        "trusted": true,
        "execution": {
          "iopub.status.busy": "2025-03-19T11:37:58.405767Z",
          "iopub.execute_input": "2025-03-19T11:37:58.406513Z",
          "iopub.status.idle": "2025-03-19T11:37:59.090208Z",
          "shell.execute_reply.started": "2025-03-19T11:37:58.40648Z",
          "shell.execute_reply": "2025-03-19T11:37:59.089281Z"
        },
        "id": "5WZu9GV-zlMB"
      },
      "outputs": [],
      "execution_count": null
    },
    {
      "cell_type": "code",
      "source": [
        "from tensorflow.keras.applications import Xception\n",
        "from tensorflow.keras.models import Model\n",
        "from tensorflow.keras.layers import GlobalAveragePooling2D, Dense, Dropout, BatchNormalization, GaussianNoise, Input, MultiHeadAttention, Reshape\n",
        "from tensorflow.keras.optimizers import Adam\n",
        "import tensorflow as tf\n",
        "\n",
        "def create_xception_model(input_shape):\n",
        "\n",
        "    inputs = Input(shape=input_shape)\n",
        "\n",
        "    base_model = Xception(weights='imagenet', input_tensor=inputs, include_top=False)\n",
        "\n",
        "    for layer in base_model.layers:\n",
        "        layer.trainable = False\n",
        "\n",
        "    x = base_model.output\n",
        "\n",
        "    height, width, channels = 7, 7, 2048\n",
        "    x = Reshape((height * width, channels))(x)\n",
        "\n",
        "    attention_output = MultiHeadAttention(num_heads=8, key_dim=channels)(x, x)\n",
        "\n",
        "    attention_output = Reshape((height, width, channels))(attention_output)\n",
        "\n",
        "    x = GaussianNoise(0.25)(attention_output)\n",
        "    x = GlobalAveragePooling2D()(x)\n",
        "    x = Dense(512, activation='relu')(x)\n",
        "    x = BatchNormalization()(x)\n",
        "    x = GaussianNoise(0.25)(x)\n",
        "    x = Dropout(0.25)(x)\n",
        "    outputs = Dense(14, activation='softmax')(x)\n",
        "\n",
        "    model = Model(inputs=inputs, outputs=outputs)\n",
        "\n",
        "    return model\n",
        "\n",
        "input_shape = (224, 224, 3)\n",
        "cnn_model = create_xception_model(input_shape)\n",
        "\n",
        "cnn_model.compile(optimizer=Adam(learning_rate=0.0001),\n",
        "                  loss='sparse_categorical_crossentropy',\n",
        "                  metrics=['accuracy'])"
      ],
      "metadata": {
        "trusted": true,
        "execution": {
          "iopub.status.busy": "2025-03-19T11:38:03.028746Z",
          "iopub.execute_input": "2025-03-19T11:38:03.02911Z",
          "iopub.status.idle": "2025-03-19T11:38:07.82414Z",
          "shell.execute_reply.started": "2025-03-19T11:38:03.029078Z",
          "shell.execute_reply": "2025-03-19T11:38:07.823164Z"
        },
        "id": "k-u9E1zIzlMB"
      },
      "outputs": [],
      "execution_count": null
    },
    {
      "cell_type": "code",
      "source": [
        "history = cnn_model.fit(\n",
        "    train_gen_new,\n",
        "    validation_data=valid_gen_new,\n",
        "    epochs=5,\n",
        "    callbacks=[early_stopping],\n",
        "    verbose=1\n",
        ")"
      ],
      "metadata": {
        "trusted": true,
        "execution": {
          "iopub.status.busy": "2025-03-19T11:38:45.538723Z",
          "iopub.execute_input": "2025-03-19T11:38:45.539641Z",
          "iopub.status.idle": "2025-03-19T11:42:12.810454Z",
          "shell.execute_reply.started": "2025-03-19T11:38:45.539592Z",
          "shell.execute_reply": "2025-03-19T11:42:12.809465Z"
        },
        "id": "aXNVcDnAzlMB"
      },
      "outputs": [],
      "execution_count": null
    },
    {
      "cell_type": "code",
      "source": [
        "plt.plot(history.history['accuracy'])\n",
        "plt.plot(history.history['val_accuracy'])\n",
        "plt.title('Model accuracy')\n",
        "plt.ylabel('Accuracy')\n",
        "plt.xlabel('Epoch')\n",
        "plt.legend(['Train', 'Validation'], loc='upper left')\n",
        "plt.show()\n",
        "\n",
        "plt.plot(history.history['loss'])\n",
        "plt.plot(history.history['val_loss'])\n",
        "plt.title('Model loss')\n",
        "plt.ylabel('Loss')\n",
        "plt.xlabel('Epoch')\n",
        "plt.legend(['Train', 'Validation'], loc='upper left')\n",
        "plt.show()"
      ],
      "metadata": {
        "trusted": true,
        "execution": {
          "iopub.status.busy": "2025-03-19T11:42:12.812083Z",
          "iopub.execute_input": "2025-03-19T11:42:12.812444Z",
          "iopub.status.idle": "2025-03-19T11:42:13.353297Z",
          "shell.execute_reply.started": "2025-03-19T11:42:12.812415Z",
          "shell.execute_reply": "2025-03-19T11:42:13.352418Z"
        },
        "id": "jpbsug5lzlMC"
      },
      "outputs": [],
      "execution_count": null
    },
    {
      "cell_type": "code",
      "source": [
        "test_labels = test_gen_new.classes\n",
        "predictions = cnn_model.predict(test_gen_new)\n",
        "predicted_classes = np.argmax(predictions, axis=1)"
      ],
      "metadata": {
        "trusted": true,
        "execution": {
          "iopub.status.busy": "2025-03-19T11:43:09.1992Z",
          "iopub.execute_input": "2025-03-19T11:43:09.200067Z",
          "iopub.status.idle": "2025-03-19T11:43:15.378081Z",
          "shell.execute_reply.started": "2025-03-19T11:43:09.200031Z",
          "shell.execute_reply": "2025-03-19T11:43:15.377377Z"
        },
        "id": "AqonXICHzlMC"
      },
      "outputs": [],
      "execution_count": null
    },
    {
      "cell_type": "code",
      "source": [
        "report = classification_report(test_labels, predicted_classes, target_names=list(test_gen_new.class_indices.keys()))\n",
        "print(report)"
      ],
      "metadata": {
        "trusted": true,
        "execution": {
          "iopub.status.busy": "2025-03-19T11:43:15.3799Z",
          "iopub.execute_input": "2025-03-19T11:43:15.380671Z",
          "iopub.status.idle": "2025-03-19T11:43:15.394094Z",
          "shell.execute_reply.started": "2025-03-19T11:43:15.380627Z",
          "shell.execute_reply": "2025-03-19T11:43:15.393199Z"
        },
        "id": "YfLf4HhbzlMC"
      },
      "outputs": [],
      "execution_count": null
    },
    {
      "cell_type": "code",
      "source": [
        "conf_matrix = confusion_matrix(test_labels, predicted_classes)"
      ],
      "metadata": {
        "trusted": true,
        "execution": {
          "iopub.status.busy": "2025-03-19T11:43:15.395069Z",
          "iopub.execute_input": "2025-03-19T11:43:15.395298Z",
          "iopub.status.idle": "2025-03-19T11:43:15.403093Z",
          "shell.execute_reply.started": "2025-03-19T11:43:15.395275Z",
          "shell.execute_reply": "2025-03-19T11:43:15.402277Z"
        },
        "id": "QA9H7clTzlMC"
      },
      "outputs": [],
      "execution_count": null
    },
    {
      "cell_type": "code",
      "source": [
        "plt.figure(figsize=(10, 8))\n",
        "sns.heatmap(conf_matrix, annot=True, fmt='d', cmap='Blues', xticklabels=list(test_gen_new.class_indices.keys()), yticklabels=list(test_gen_new.class_indices.keys()))\n",
        "plt.title('Confusion Matrix')\n",
        "plt.xlabel('Predicted Label')\n",
        "plt.ylabel('True Label')\n",
        "plt.show()"
      ],
      "metadata": {
        "trusted": true,
        "execution": {
          "iopub.status.busy": "2025-03-19T11:43:15.404548Z",
          "iopub.execute_input": "2025-03-19T11:43:15.404836Z",
          "iopub.status.idle": "2025-03-19T11:43:16.145371Z",
          "shell.execute_reply.started": "2025-03-19T11:43:15.40481Z",
          "shell.execute_reply": "2025-03-19T11:43:16.144529Z"
        },
        "id": "p6nJjpLhzlMD"
      },
      "outputs": [],
      "execution_count": null
    },
    {
      "cell_type": "code",
      "source": [
        "import matplotlib.pyplot as plt\n",
        "import numpy as np\n",
        "\n",
        "labels = [str(i) for i in range(10)]\n",
        "\n",
        "vgg16_precision = [1.00, 0.79, 0.60, 0.77, 0.85, 0.50, 1.00, 1.00, 0.35, 0.75]\n",
        "vgg16_recall = [0.25, 0.85, 1.00, 0.77, 0.85, 0.58, 0.85, 0.38, 0.92, 0.50]\n",
        "vgg16_f1 = [0.40, 0.81, 0.75, 0.77, 0.85, 0.54, 0.92, 0.56, 0.51, 0.60]\n",
        "\n",
        "vgg19_precision = [1.00, 0.40, 0.45, 0.21, 0.67, 0.00, 1.00, 0.00, 0.00, 0.90]\n",
        "vgg19_recall = [0.42, 0.15, 0.42, 0.92, 0.15, 0.00, 0.08, 0.00, 0.00, 0.69]\n",
        "vgg19_f1 = [0.59, 0.22, 0.43, 0.34, 0.25, 0.00, 0.14, 0.00, 0.00, 0.78]\n",
        "\n",
        "inceptionv3_precision = [1.00, 0.62, 0.79, 0.76, 0.88, 0.89, 0.33, 0.34, 1.00, 0.50]\n",
        "inceptionv3_recall = [0.08, 0.77, 0.92, 1.00, 0.54, 0.67, 1.00, 0.85, 0.08, 0.42]\n",
        "inceptionv3_f1 = [0.15, 0.69, 0.85, 0.87, 0.67, 0.76, 0.49, 0.49, 0.15, 0.77]\n",
        "\n",
        "xception_precision = [0.75, 1.00, 0.79, 0.92, 1.00, 0.80, 1.00, 0.75, 1.00, 0.71]\n",
        "xception_recall = [0.75, 0.85, 0.92, 0.92, 1.00, 0.67, 1.00, 0.69, 0.67, 0.92]\n",
        "xception_f1 = [0.75, 0.92, 0.85, 0.92, 1.00, 0.73, 1.00, 0.72, 0.80, 0.80]\n",
        "\n",
        "fig, ax = plt.subplots(1, 3, figsize=(18, 6))\n",
        "\n",
        "models = ['VGG16', 'VGG19', 'InceptionV3', 'Xception']\n",
        "precision_data = [vgg16_precision, vgg19_precision, inceptionv3_precision, xception_precision]\n",
        "recall_data = [vgg16_recall, vgg19_recall, inceptionv3_recall, xception_recall]\n",
        "f1_data = [vgg16_f1, vgg19_f1, inceptionv3_f1, xception_f1]\n",
        "\n",
        "x = np.arange(len(labels))\n",
        "width = 0.2\n",
        "\n",
        "for i, model in enumerate(models):\n",
        "    ax[0].bar(x + i * width - 1.5 * width, precision_data[i], width, label=model)\n",
        "\n",
        "for i, model in enumerate(models):\n",
        "    ax[1].bar(x + i * width - 1.5 * width, recall_data[i], width, label=model)\n",
        "\n",
        "for i, model in enumerate(models):\n",
        "    ax[2].bar(x + i * width - 1.5 * width, f1_data[i], width, label=model)\n",
        "\n",
        "for i in range(3):\n",
        "    ax[i].set_xlabel('Classes')\n",
        "    ax[i].set_ylabel('Scores')\n",
        "    ax[i].set_title(f'{models[i]} Results')\n",
        "    ax[i].set_xticks(x)\n",
        "    ax[i].set_xticklabels(labels)\n",
        "    ax[i].legend()\n",
        "\n",
        "plt.tight_layout()\n",
        "plt.show()"
      ],
      "metadata": {
        "trusted": true,
        "execution": {
          "iopub.status.busy": "2025-03-19T11:43:16.146638Z",
          "iopub.execute_input": "2025-03-19T11:43:16.147008Z",
          "iopub.status.idle": "2025-03-19T11:43:17.328857Z",
          "shell.execute_reply.started": "2025-03-19T11:43:16.146968Z",
          "shell.execute_reply": "2025-03-19T11:43:17.328028Z"
        },
        "id": "l0FQxkWazlMD"
      },
      "outputs": [],
      "execution_count": null
    },
    {
      "cell_type": "markdown",
      "source": [
        "# Thanks !!!"
      ],
      "metadata": {
        "id": "gCEu2lRnzlMD"
      }
    },
    {
      "cell_type": "code",
      "source": [
        "from tensorflow.keras.applications import Xception\n",
        "from tensorflow.keras.models import Model\n",
        "from tensorflow.keras.layers import GlobalAveragePooling2D, Dense, Dropout, BatchNormalization, GaussianNoise, Input, MultiHeadAttention, Reshape\n",
        "from tensorflow.keras.optimizers import Adam\n",
        "import tensorflow as tf\n",
        "\n",
        "def create_xception_model(input_shape):\n",
        "\n",
        "    inputs = Input(shape=input_shape)\n",
        "\n",
        "    base_model = Xception(weights='imagenet', input_tensor=inputs, include_top=False)\n",
        "\n",
        "    for layer in base_model.layers:\n",
        "        layer.trainable = False\n",
        "\n",
        "    x = base_model.output\n",
        "\n",
        "    height, width, channels = 7, 7, 2048\n",
        "    x = Reshape((height * width, channels))(x)\n",
        "\n",
        "    attention_output = MultiHeadAttention(num_heads=8, key_dim=channels)(x, x)\n",
        "\n",
        "    attention_output = Reshape((height, width, channels))(attention_output)\n",
        "\n",
        "    x = GaussianNoise(0.25)(attention_output)\n",
        "    x = GlobalAveragePooling2D()(x)\n",
        "    x = Dense(512, activation='relu')(x)\n",
        "    x = BatchNormalization()(x)\n",
        "    x = GaussianNoise(0.25)(x)\n",
        "    x = Dropout(0.4)(x)\n",
        "    outputs = Dense(14, activation='softmax')(x)\n",
        "\n",
        "    model = Model(inputs=inputs, outputs=outputs)\n",
        "\n",
        "    return model\n",
        "\n",
        "input_shape = (224, 224, 3)\n",
        "cnn_model2 = create_xception_model(input_shape)\n",
        "\n",
        "cnn_model2.compile(optimizer=Adam(learning_rate=0.0001),\n",
        "                  loss='sparse_categorical_crossentropy',\n",
        "                  metrics=['accuracy'])"
      ],
      "metadata": {
        "trusted": true,
        "execution": {
          "iopub.status.busy": "2025-03-19T11:54:59.096404Z",
          "iopub.execute_input": "2025-03-19T11:54:59.097349Z",
          "iopub.status.idle": "2025-03-19T11:55:00.003253Z",
          "shell.execute_reply.started": "2025-03-19T11:54:59.097286Z",
          "shell.execute_reply": "2025-03-19T11:55:00.00221Z"
        },
        "id": "1XREItaEzlME"
      },
      "outputs": [],
      "execution_count": null
    },
    {
      "cell_type": "code",
      "source": [
        "history = cnn_model2.fit(\n",
        "    train_gen_new,\n",
        "    validation_data=valid_gen_new,\n",
        "    epochs=10,\n",
        "    callbacks=[early_stopping],\n",
        "    verbose=1\n",
        ")"
      ],
      "metadata": {
        "trusted": true,
        "execution": {
          "iopub.status.busy": "2025-03-19T12:01:08.863899Z",
          "iopub.execute_input": "2025-03-19T12:01:08.864691Z",
          "iopub.status.idle": "2025-03-19T12:03:49.921089Z",
          "shell.execute_reply.started": "2025-03-19T12:01:08.864659Z",
          "shell.execute_reply": "2025-03-19T12:03:49.920331Z"
        },
        "id": "EqsrzUkOzlMF"
      },
      "outputs": [],
      "execution_count": null
    },
    {
      "cell_type": "code",
      "source": [
        "final_train_acc = history.history['accuracy'][-1]\n",
        "final_val_acc = history.history['val_accuracy'][-1]\n",
        "\n",
        "print(f\"Final Training Accuracy: {final_train_acc:.4f}\")\n",
        "print(f\"Final Validation Accuracy: {final_val_acc:.4f}\")\n"
      ],
      "metadata": {
        "trusted": true,
        "execution": {
          "iopub.status.busy": "2025-03-19T12:04:36.611405Z",
          "iopub.execute_input": "2025-03-19T12:04:36.612231Z",
          "iopub.status.idle": "2025-03-19T12:04:36.61745Z",
          "shell.execute_reply.started": "2025-03-19T12:04:36.612197Z",
          "shell.execute_reply": "2025-03-19T12:04:36.616445Z"
        },
        "id": "iH6yzagMzlMF"
      },
      "outputs": [],
      "execution_count": null
    },
    {
      "cell_type": "code",
      "source": [
        "cnn_model.save(\"cnn_model.h5\")"
      ],
      "metadata": {
        "trusted": true,
        "execution": {
          "iopub.status.busy": "2025-03-19T12:09:52.388161Z",
          "iopub.execute_input": "2025-03-19T12:09:52.388999Z",
          "iopub.status.idle": "2025-03-19T12:09:56.030041Z",
          "shell.execute_reply.started": "2025-03-19T12:09:52.388965Z",
          "shell.execute_reply": "2025-03-19T12:09:56.029297Z"
        },
        "id": "Fq886xjyzlMG"
      },
      "outputs": [],
      "execution_count": null
    },
    {
      "cell_type": "code",
      "source": [
        "cnn_model2.save(\"cnn_model2.h5\")"
      ],
      "metadata": {
        "trusted": true,
        "execution": {
          "iopub.status.busy": "2025-03-19T12:09:56.03147Z",
          "iopub.execute_input": "2025-03-19T12:09:56.03171Z",
          "iopub.status.idle": "2025-03-19T12:09:59.760506Z",
          "shell.execute_reply.started": "2025-03-19T12:09:56.031687Z",
          "shell.execute_reply": "2025-03-19T12:09:59.759161Z"
        },
        "id": "v8LjdF3SzlMG"
      },
      "outputs": [],
      "execution_count": null
    },
    {
      "cell_type": "code",
      "source": [
        "import numpy as np\n",
        "import cv2\n",
        "from tensorflow.keras.models import load_model\n",
        "\n",
        "# ✅ Load the trained model\n",
        "#model = load_model(\"cnn_model.h5\")\n",
        "\n",
        "# ✅ Define class names (Ensure correct order matches training data)\n",
        "class_names = ['Agriculture', 'Airport', 'Beach', 'City', 'Desert', 'Forest',\n",
        "               'Grassland', 'Highway', 'Lake', 'Mountain', 'Parking', 'Port',\n",
        "               'Railway', 'River']\n",
        "\n",
        "# ✅ Load and preprocess a test image\n",
        "test_image = cv2.imread(\"/kaggle/input/remote-sensing-satellite-images/Remote Sensing Data.v2i.yolov8/test/images/015_jpg.rf.0c375710767d68c292906477a5f53a5f.jpg\")  # Replace with actual image path\n",
        "test_image = cv2.resize(test_image, (224, 224))  # Resize to match model input\n",
        "test_image = np.expand_dims(test_image, axis=0)  # Add batch dimension\n",
        "test_image = test_image / 255.0  # Normalize\n",
        "\n",
        "# ✅ Predict class\n",
        "predictions = cnn_model2.predict(test_image)\n",
        "predicted_class_index = np.argmax(predictions, axis=1)[0]  # Get highest probability index\n",
        "\n",
        "# ✅ Get the class name\n",
        "predicted_class_name = class_names[predicted_class_index]\n",
        "\n",
        "print(f\"Predicted Class: {predicted_class_name}\")\n"
      ],
      "metadata": {
        "trusted": true,
        "execution": {
          "iopub.status.busy": "2025-03-19T12:09:59.762207Z",
          "iopub.execute_input": "2025-03-19T12:09:59.763149Z",
          "iopub.status.idle": "2025-03-19T12:09:59.856067Z",
          "shell.execute_reply.started": "2025-03-19T12:09:59.763095Z",
          "shell.execute_reply": "2025-03-19T12:09:59.855151Z"
        },
        "id": "IwH7F4h1zlMG"
      },
      "outputs": [],
      "execution_count": null
    },
    {
      "cell_type": "code",
      "source": [
        "cnn_model.save(\"cnn_model.h5\")\n",
        "print(\"Model saved successfully!\")"
      ],
      "metadata": {
        "trusted": true,
        "execution": {
          "iopub.status.busy": "2025-03-19T12:13:35.590868Z",
          "iopub.execute_input": "2025-03-19T12:13:35.59172Z",
          "iopub.status.idle": "2025-03-19T12:13:40.96835Z",
          "shell.execute_reply.started": "2025-03-19T12:13:35.591684Z",
          "shell.execute_reply": "2025-03-19T12:13:40.967446Z"
        },
        "id": "OOvM5_YGzlMH"
      },
      "outputs": [],
      "execution_count": null
    },
    {
      "cell_type": "code",
      "source": [
        "cnn_model2.save(\"cnn_model2.h5\")\n",
        "print(\"Model saved successfully!\")"
      ],
      "metadata": {
        "trusted": true,
        "execution": {
          "iopub.status.busy": "2025-03-19T12:13:47.166745Z",
          "iopub.execute_input": "2025-03-19T12:13:47.167608Z",
          "iopub.status.idle": "2025-03-19T12:13:52.567394Z",
          "shell.execute_reply.started": "2025-03-19T12:13:47.167574Z",
          "shell.execute_reply": "2025-03-19T12:13:52.566196Z"
        },
        "id": "QrBB65KLzlMH"
      },
      "outputs": [],
      "execution_count": null
    },
    {
      "cell_type": "code",
      "source": [
        "df"
      ],
      "metadata": {
        "trusted": true,
        "execution": {
          "iopub.status.busy": "2025-03-19T12:25:28.610351Z",
          "iopub.execute_input": "2025-03-19T12:25:28.610673Z",
          "iopub.status.idle": "2025-03-19T12:25:28.620928Z",
          "shell.execute_reply.started": "2025-03-19T12:25:28.610647Z",
          "shell.execute_reply": "2025-03-19T12:25:28.619744Z"
        },
        "id": "nDeFc4R-zlMH"
      },
      "outputs": [],
      "execution_count": null
    },
    {
      "cell_type": "code",
      "source": [
        "print(df['image_path'].iloc[0])  # First row\n",
        "print(df['image_path'].iloc[10])  # 11th row\n"
      ],
      "metadata": {
        "trusted": true,
        "execution": {
          "iopub.status.busy": "2025-03-19T12:27:00.893446Z",
          "iopub.execute_input": "2025-03-19T12:27:00.893833Z",
          "iopub.status.idle": "2025-03-19T12:27:00.899401Z",
          "shell.execute_reply.started": "2025-03-19T12:27:00.893801Z",
          "shell.execute_reply": "2025-03-19T12:27:00.898483Z"
        },
        "id": "d7M6dk2czlMH"
      },
      "outputs": [],
      "execution_count": null
    },
    {
      "cell_type": "code",
      "source": [
        "from tensorflow.keras.applications import Xception\n",
        "from tensorflow.keras.models import Model\n",
        "from tensorflow.keras.layers import GlobalAveragePooling2D, Dense, Dropout, BatchNormalization, GaussianNoise, Input, MultiHeadAttention, Reshape\n",
        "from tensorflow.keras.optimizers import Adam\n",
        "import tensorflow as tf\n",
        "\n",
        "def create_xception_model(input_shape):\n",
        "\n",
        "    inputs = Input(shape=input_shape)\n",
        "\n",
        "    base_model = Xception(weights='imagenet', input_tensor=inputs, include_top=False)\n",
        "\n",
        "    for layer in base_model.layers:\n",
        "        layer.trainable = False\n",
        "\n",
        "    x = base_model.output\n",
        "\n",
        "    height, width, channels = 7, 7, 2048\n",
        "    x = Reshape((height * width, channels))(x)\n",
        "\n",
        "    attention_output = MultiHeadAttention(num_heads=8, key_dim=channels)(x, x)\n",
        "\n",
        "    attention_output = Reshape((height, width, channels))(attention_output)\n",
        "\n",
        "    x = GaussianNoise(0.25)(attention_output)\n",
        "    x = GlobalAveragePooling2D()(x)\n",
        "    x = Dense(512, activation='relu')(x)\n",
        "    x = BatchNormalization()(x)\n",
        "    x = GaussianNoise(0.25)(x)\n",
        "    x = Dropout(0.25)(x)\n",
        "    outputs = Dense(14, activation='softmax')(x)\n",
        "\n",
        "    model = Model(inputs=inputs, outputs=outputs)\n",
        "\n",
        "    return model\n",
        "\n",
        "input_shape = (224, 224, 3)\n",
        "cnn_model3 = create_xception_model(input_shape)\n",
        "\n",
        "cnn_model3.compile(optimizer=Adam(learning_rate=0.0001),\n",
        "                  loss='sparse_categorical_crossentropy',\n",
        "                  metrics=['accuracy'])"
      ],
      "metadata": {
        "trusted": true,
        "execution": {
          "iopub.status.busy": "2025-03-19T12:45:22.913491Z",
          "iopub.execute_input": "2025-03-19T12:45:22.913835Z",
          "iopub.status.idle": "2025-03-19T12:45:23.7848Z",
          "shell.execute_reply.started": "2025-03-19T12:45:22.913807Z",
          "shell.execute_reply": "2025-03-19T12:45:23.783887Z"
        },
        "id": "rUW969__zlMI"
      },
      "outputs": [],
      "execution_count": null
    },
    {
      "cell_type": "code",
      "source": [
        "history = cnn_model3.fit(\n",
        "    train_gen_new,\n",
        "    validation_data=valid_gen_new,\n",
        "    epochs=5,\n",
        "    callbacks=[early_stopping],\n",
        "    verbose=1\n",
        ")"
      ],
      "metadata": {
        "trusted": true,
        "execution": {
          "iopub.status.busy": "2025-03-19T12:45:39.858241Z",
          "iopub.execute_input": "2025-03-19T12:45:39.858609Z",
          "iopub.status.idle": "2025-03-19T12:48:12.110612Z",
          "shell.execute_reply.started": "2025-03-19T12:45:39.858577Z",
          "shell.execute_reply": "2025-03-19T12:48:12.109818Z"
        },
        "id": "R37-Dqg-zlMI"
      },
      "outputs": [],
      "execution_count": null
    },
    {
      "cell_type": "code",
      "source": [
        "cnn_model3.save(\"cnn_model3.h5\")\n",
        "print(\"Model saved successfully!\")"
      ],
      "metadata": {
        "trusted": true,
        "execution": {
          "iopub.status.busy": "2025-03-19T12:49:59.982446Z",
          "iopub.execute_input": "2025-03-19T12:49:59.982795Z",
          "iopub.status.idle": "2025-03-19T12:50:03.649464Z",
          "shell.execute_reply.started": "2025-03-19T12:49:59.982765Z",
          "shell.execute_reply": "2025-03-19T12:50:03.648548Z"
        },
        "id": "2z75z8kOzlMI"
      },
      "outputs": [],
      "execution_count": null
    },
    {
      "cell_type": "code",
      "source": [],
      "metadata": {
        "trusted": true,
        "id": "r_N7-kxzzlMI"
      },
      "outputs": [],
      "execution_count": null
    }
  ]
}